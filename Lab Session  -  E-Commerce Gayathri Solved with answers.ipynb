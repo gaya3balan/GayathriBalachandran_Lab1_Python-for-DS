{
 "cells": [
  {
   "cell_type": "markdown",
   "id": "2c8f47d3",
   "metadata": {
    "id": "2c8f47d3"
   },
   "source": [
    "# Lab Session"
   ]
  },
  {
   "cell_type": "markdown",
   "id": "f637aba6",
   "metadata": {
    "id": "f637aba6"
   },
   "source": [
    "## <font color='blue'> Table Of Contents </font>\n",
    "- Problem Statement \n",
    "- Load required libraries\n",
    "- Connect to DB using mysql-connector-python package\n",
    "- Create database named `e_commerce`\n",
    "- Create tables and insert data into tables as specified in the question\n",
    "- Read all the questions and write sql queries to meet the objective "
   ]
  },
  {
   "cell_type": "markdown",
   "id": "1073fc90",
   "metadata": {
    "id": "1073fc90"
   },
   "source": [
    "## <font color='blue'> Problem Statement </font>\n",
    "###  An E-commerce website manages its data in the form of various tables.\n",
    "You need to create a Database called `e_commerce` and various tables in it. The tables needed and attributes which need to be in every table are given before hand. All you have to do is create tables with data in it and answer some of the questions that follows."
   ]
  },
  {
   "cell_type": "markdown",
   "id": "48787355",
   "metadata": {
    "id": "48787355"
   },
   "source": [
    "### e_commerce Schema:"
   ]
  },
  {
   "cell_type": "markdown",
   "id": "d9abe6c7",
   "metadata": {
    "id": "d9abe6c7"
   },
   "source": [
    "### Load Required Libraries"
   ]
  },
  {
   "cell_type": "code",
   "execution_count": null,
   "id": "0178d08e",
   "metadata": {
    "id": "0178d08e"
   },
   "outputs": [],
   "source": [
    "!pip install MySQL-connector-python\n",
    "import mysql.connector\n",
    "import pandas as pd"
   ]
  },
  {
   "cell_type": "markdown",
   "id": "d7d7fd5c",
   "metadata": {
    "id": "d7d7fd5c"
   },
   "source": [
    "### Connect to DB using Mysql-connector-python package"
   ]
  },
  {
   "cell_type": "code",
   "execution_count": null,
   "id": "ef7bef72",
   "metadata": {
    "id": "ef7bef72"
   },
   "outputs": [],
   "source": [
    "import mysql.connector\n",
    "  \n",
    "connection = mysql.connector.connect(host =\"localhost\",\n",
    "                                    user =\"root\",\n",
    "                                    passwd =\"T@mmy021\")\n",
    " \n",
    "print(connection)\n",
    "  \n",
    "## closing the connection\n",
    "connection.close()"
   ]
  },
  {
   "cell_type": "markdown",
   "id": "9d55e510",
   "metadata": {
    "id": "9d55e510"
   },
   "source": [
    "### You are required to create a database named 'e_commerce'"
   ]
  },
  {
   "cell_type": "code",
   "execution_count": null,
   "id": "42a154f2",
   "metadata": {
    "id": "42a154f2"
   },
   "outputs": [],
   "source": [
    "## Lets make a connection to Mysql server and perform some operations\n",
    "connection = mysql.connector.connect(host =\"localhost\",\n",
    "                                     user =\"root\",\n",
    "                                     passwd =\"T@mmy021\")\n",
    " \n",
    "## creating a cursor object\n",
    "cursorObject = connection.cursor()\n",
    " \n",
    "## creating database\n",
    "cursorObject.execute(\"CREATE DATABASE e_commerce\")\n",
    "\n",
    "## closing the connection after creating a database('e_commerce')\n",
    "connection.close()"
   ]
  },
  {
   "cell_type": "markdown",
   "id": "480dc986",
   "metadata": {
    "id": "480dc986"
   },
   "source": [
    "### Q1. Create tables for supplier, customer, category, product, productDetails, order, rating to store the data for the E-commerce with the schema definition given below.\n",
    "\n",
    "\n",
    "- **`supplier`**(SUPP_ID int primary key, SUPP_NAME varchar(50), SUPP_CITY varchar(50), SUPP_PHONE varchar(10))\n",
    "\n",
    "\n",
    "- **`customer`** (CUS_ID INT NOT NULL, CUS_NAME VARCHAR(20) NULL DEFAULT NULL, CUS_PHONE VARCHAR(10), CUS_CITY varchar(30) ,CUS_GENDER CHAR,PRIMARY KEY (CUS_ID))\n",
    "\n",
    "\n",
    "- **`category`** (CAT_ID INT NOT NULL, CAT_NAME VARCHAR(20) NULL DEFAULT NULL,PRIMARY KEY (CAT_ID))\n",
    "\n",
    "\n",
    "- **`product`** (PRO_ID INT NOT NULL, PRO_NAME VARCHAR(20) NULL DEFAULT NULL, PRO_DESC VARCHAR(60) NULL DEFAULT NULL, CAT_ID INT NOT NULL,PRIMARY KEY (PRO_ID),FOREIGN KEY (CAT_ID) REFERENCES CATEGORY (CAT_ID))\n",
    "\n",
    "\n",
    "- **`product_details`** (PROD_ID INT NOT NULL, PRO_ID INT NOT NULL, SUPP_ID INT NOT NULL, PROD_PRICE INT NOT NULL,\n",
    "  PRIMARY KEY (PROD_ID),FOREIGN KEY (PRO_ID) REFERENCES PRODUCT (PRO_ID), FOREIGN KEY (SUPP_ID) REFERENCES SUPPLIER(SUPP_ID))\n",
    "  \n",
    "  \n",
    "- **`order`** (ORD_ID INT NOT NULL, ORD_AMOUNT INT NOT NULL, ORD_DATE DATE, CUS_ID INT NOT NULL, PROD_ID INT NOT NULL,PRIMARY KEY (ORD_ID),FOREIGN KEY (CUS_ID) REFERENCES CUSTOMER(CUS_ID),FOREIGN KEY (PROD_ID) REFERENCES PRODUCT_DETAILS(PROD_ID))\n",
    "\n",
    "\n",
    "- **`rating`** (RAT_ID INT NOT NULL, CUS_ID INT NOT NULL, SUPP_ID INT NOT NULL, RAT_RATSTARS INT NOT NULL,PRIMARY KEY (RAT_ID),FOREIGN KEY (SUPP_ID) REFERENCES SUPPLIER (SUPP_ID),FOREIGN KEY (CUS_ID) REFERENCES CUSTOMER(CUS_ID))"
   ]
  },
  {
   "cell_type": "code",
   "execution_count": null,
   "id": "967b718f",
   "metadata": {
    "id": "967b718f"
   },
   "outputs": [],
   "source": [
    "## Connect to Mysql server and choose the database while connecting to the server\n",
    "connection = mysql.connector.connect(host =\"localhost\",\n",
    "                                     user =\"root\",\n",
    "                                     passwd =\"T@mmy021\",\n",
    "                                     database = \"e_commerce\")\n",
    "\n",
    "# creating a cursor object\n",
    "cursorObject = connection.cursor()\n",
    "print(connection)\n",
    "\n",
    "table_creation_query = \"\"\"create table `supplier`(SUPP_ID int primary key, SUPP_NAME varchar(50),\n",
    "                          SUPP_CITY varchar(50), SUPP_PHONE varchar(10));\n",
    "\n",
    "                          create table `customer`(CUS_ID INT NOT NULL, CUS_NAME VARCHAR(20) NULL DEFAULT NULL, \n",
    "                          CUS_PHONE VARCHAR(10), CUS_CITY varchar(30) ,CUS_GENDER CHAR,PRIMARY KEY (CUS_ID));\n",
    "\n",
    "                          create table `category`(CAT_ID INT NOT NULL, CAT_NAME VARCHAR(20) NULL DEFAULT NULL,PRIMARY KEY (CAT_ID));\n",
    "\n",
    "                          create table `product`(PRO_ID INT NOT NULL, PRO_NAME VARCHAR(20) NULL DEFAULT NULL, PRO_DESC VARCHAR(60) NULL DEFAULT NULL, \n",
    "                          CAT_ID INT NOT NULL,PRIMARY KEY (PRO_ID),FOREIGN KEY (CAT_ID) REFERENCES CATEGORY (CAT_ID));\n",
    "\n",
    "                          create table `product_details`(PROD_ID INT NOT NULL, PRO_ID INT NOT NULL, SUPP_ID INT NOT NULL, PROD_PRICE INT NOT NULL,\n",
    "                          PRIMARY KEY (PROD_ID),FOREIGN KEY (PRO_ID) REFERENCES PRODUCT (PRO_ID), \n",
    "                          FOREIGN KEY (SUPP_ID) REFERENCES SUPPLIER(SUPP_ID));\n",
    "\n",
    "                          create table `order`(ORD_ID INT NOT NULL, ORD_AMOUNT INT NOT NULL, ORD_DATE DATE, CUS_ID INT NOT NULL,\n",
    "                          PROD_ID INT NOT NULL,PRIMARY KEY (ORD_ID),FOREIGN KEY (CUS_ID) REFERENCES CUSTOMER(CUS_ID),FOREIGN KEY (PROD_ID) REFERENCES PRODUCT_DETAILS(PROD_ID));\n",
    "                          \n",
    "                          create table `rating`(RAT_ID INT NOT NULL, CUS_ID INT NOT NULL, SUPP_ID INT NOT NULL, \n",
    "                          RAT_RATSTARS INT NOT NULL,PRIMARY KEY (RAT_ID),FOREIGN KEY (SUPP_ID) REFERENCES SUPPLIER (SUPP_ID),\n",
    "                          FOREIGN KEY (CUS_ID) REFERENCES CUSTOMER(CUS_ID));\"\"\"\n",
    "\n",
    "                   \n",
    "                  \n",
    "# Executing the query\n",
    "cursorObject.execute(table_creation_query)"
   ]
  },
  {
   "cell_type": "markdown",
   "id": "1f653731",
   "metadata": {
    "id": "1f653731"
   },
   "source": [
    "### Q2. Insert the following data in the table created above\n",
    "#### `Note:` If you are getting any error while inserting the data into tables, Kindly close the connection and reconnect\n",
    "\n",
    "#### Table:  supplier\n",
    "| SUPP_ID | SUPP_NAME | SUPP_CITY | SUPP_PHONE |\n",
    "| --- | --- | --- | --- | \n",
    "| 1 | Rajesh Retails | Delhi | 1234567890 |\n",
    "| 2 | Appario Ltd. | Mumbai | 258963147032 | \n",
    "| 3 | Knome products | Bangalore | 9785462315 |\n",
    "| 4 | Bansal Retails | Kochi | 8975463285 |\n",
    "| 5 | Mittal Ltd. | Lucknow | 7898456532 |"
   ]
  },
  {
   "cell_type": "code",
   "execution_count": null,
   "id": "f6dddd07",
   "metadata": {
    "id": "f6dddd07"
   },
   "outputs": [],
   "source": [
    "# insert into \"supplier\" table\n",
    "## Inserting data into \"supplier\"\n",
    "\n",
    "connection.close()\n",
    "\n",
    "## Connect to Mysql server and choose the database('e_commerce') while connecting to the server\n",
    "connection = mysql.connector.connect(host =\"localhost\",\n",
    "                                     user =\"root\",\n",
    "                                     passwd =\"T@mmy021\",\n",
    "                                     database = \"e_commerce\")\n",
    "\n",
    "# creating a cursor object\n",
    "cursorObject = connection.cursor()\n",
    "print(connection)\n",
    "\n",
    "insert_supplier = \"\"\"INSERT INTO SUPPLIER (SUPP_ID , SUPP_NAME, SUPP_CITY, SUPP_PHONE) \n",
    "                       VALUES (%s, %s, %s, %s)\"\"\"\n",
    "\n",
    "val = [(1,'Rajesh Retails','Delhi','1234567890'),\n",
    "(2,'Appario Ltd.','Mumbai','2589631470'),\n",
    "(3,'Knome products','Banglore','9785462315'),\n",
    "(4,'Bansal Retails','Kochi','8975463285'),\n",
    "(5,'Mittal Ltd.','Lucknow','7898456532')]\n",
    "\n",
    "cursorObject.executemany(insert_supplier, val)\n",
    "connection.commit()\n"
   ]
  },
  {
   "cell_type": "markdown",
   "id": "e8a070a6",
   "metadata": {
    "id": "e8a070a6"
   },
   "source": [
    "#### Table:  customer\n",
    "| CUS_ID | CUS_NAME | SUPP_PHONE | CUS_CITY | CUS_GENDER\n",
    "| --- | --- | --- | --- | --- |\n",
    "| 1 | AAKASH | 9999999999 | DELHI | M |\n",
    "| 2 | AMAN | 9785463215 | NOIDA | M |\n",
    "| 3 | NEHA | 9999999998 | MUMBAI | F |\n",
    "| 4 | MEGHA | 9994562399 | KOLKATA | F |\n",
    "| 5 | PULKIT | 7895999999 | LUCKNOW | M |"
   ]
  },
  {
   "cell_type": "code",
   "execution_count": null,
   "id": "15a4ee87",
   "metadata": {
    "id": "15a4ee87"
   },
   "outputs": [],
   "source": [
    "# insert into \"customer\" table\n",
    "connection.close()\n",
    "\n",
    "## Connect to Mysql server and choose the database('e_commerce') while connecting to the server\n",
    "connection = mysql.connector.connect(host =\"localhost\",\n",
    "                                     user =\"root\",\n",
    "                                     passwd =\"T@mmy021\",\n",
    "                                     database = \"e_commerce\")\n",
    "\n",
    "# creating a cursor object\n",
    "cursorObject = connection.cursor()\n",
    "print(connection)\n",
    "\n",
    "insert_customer = \"\"\"INSERT INTO CUSTOMER (CUS_ID , CUS_NAME, CUS_PHONE, CUS_CITY, CUS_GENDER) \n",
    "                       VALUES (%s, %s, %s, %s, %s)\"\"\"\n",
    "\n",
    "val = [(1,'AAKASH','9999999999','DELHI','M'),\n",
    "(2,'AMAN','9785463215','NOIDA','M'),\n",
    "(3,'NEHA','9999999999','MUMBAI','F'),\n",
    "(4,'MEGHA','9994562399','KOLKATA','F'),\n",
    "(5,'PULKIT','7895999999','LUCKNOW','M')]\n",
    "\n",
    "cursorObject.executemany(insert_customer, val)\n",
    "connection.commit()\n",
    "\n"
   ]
  },
  {
   "cell_type": "markdown",
   "id": "b68bfbc2",
   "metadata": {
    "id": "b68bfbc2"
   },
   "source": [
    "#### Table:  category\n",
    "| CAT_ID | CAT_NAME | \n",
    "| --- | --- |  \n",
    "| 1 | BOOKS |\n",
    "| 2 | GAMES |  \n",
    "| 3 | GROCERIES | \n",
    "| 4 | ELECTRONICS | \n",
    "| 5 | CLOTHES | "
   ]
  },
  {
   "cell_type": "code",
   "execution_count": null,
   "id": "05a00abc",
   "metadata": {
    "id": "05a00abc"
   },
   "outputs": [],
   "source": [
    "# insert into \"categoty\" table\n",
    "## Inserting data into \"CATEGORY\"\n",
    "\n",
    "connection.close()\n",
    "\n",
    "## Connect to Mysql server and choose the database('e_commerce') while connecting to the server\n",
    "connection = mysql.connector.connect(host =\"localhost\",\n",
    "                                     user =\"root\",\n",
    "                                     passwd =\"T@mmy021\",\n",
    "                                     database = \"e_commerce\")\n",
    "\n",
    "# creating a cursor object\n",
    "cursorObject = connection.cursor()\n",
    "print(connection)\n",
    "\n",
    "insert_category = \"\"\"INSERT INTO CATEGORY (CAT_ID , CAT_NAME) \n",
    "                       VALUES (%s, %s)\"\"\"\n",
    "\n",
    "val = [  ( 1,'BOOKS'),\n",
    "  (2,'GAMES'),\n",
    "  (3,'GROCERIES'),\n",
    "   (4,'ELECTRONICS'),\n",
    "  (5,'CLOTHES')]\n",
    "\n",
    "cursorObject.executemany(insert_category, val)\n",
    "connection.commit()"
   ]
  },
  {
   "cell_type": "markdown",
   "id": "eb3bc592",
   "metadata": {
    "id": "eb3bc592"
   },
   "source": [
    "#### Table:  product\n",
    "| PRO_ID | PRO_NAME | PRO_DESC | CAT_ID |\n",
    "| --- | --- | --- | --- | \n",
    "| 1 | GTA V | DFJDJFDJFDJFDJFJF | 2 |\n",
    "| 2 | TSHIRT | DFDFJDFJDKFD | 5 | \n",
    "| 3 | ROG LAPTOP | DFNTTNTNTERND | 4 |\n",
    "| 4 | OATS | REURENTBTOTH | 3 |\n",
    "| 5 | HARRY POTTER | NBEMCTHTJTH | 1 |\n"
   ]
  },
  {
   "cell_type": "code",
   "execution_count": null,
   "id": "cdfbdfad",
   "metadata": {
    "id": "cdfbdfad"
   },
   "outputs": [],
   "source": [
    "# insert into \"product\" table\n",
    "## Inserting data into \"PRODUCT\"\n",
    "\n",
    "connection.close()\n",
    "\n",
    "## Connect to Mysql server and choose the database('e_commerce') while connecting to the server\n",
    "connection = mysql.connector.connect(host =\"localhost\",\n",
    "                                     user =\"root\",\n",
    "                                     passwd =\"T@mmy021\",\n",
    "                                     database = \"e_commerce\")\n",
    "\n",
    "# creating a cursor object\n",
    "cursorObject = connection.cursor()\n",
    "print(connection)\n",
    "\n",
    "insert_product = \"\"\"INSERT INTO PRODUCT(PRO_ID ,PRO_NAME, PRO_DESC, CAT_ID) \n",
    "                       VALUES (%s, %s, %s, %s)\"\"\"\n",
    "\n",
    "val = [(1,'GTA V','DFJDJFDJFDJFDJFJF',2),\n",
    "(2,'TSHIRT','DFDFJDFJDKFD',5),\n",
    "(3,'ROG LAPTOP','DFNTTNTNTERND',4),\n",
    "(4,'OATS','REURENTBTOTH',3),\n",
    "(5,'HARRY POTTER','NBEMCTHTJTH',1)]\n",
    "\n",
    "cursorObject.executemany(insert_product, val)\n",
    "connection.commit()"
   ]
  },
  {
   "cell_type": "markdown",
   "id": "cfa8a47d",
   "metadata": {
    "id": "cfa8a47d"
   },
   "source": [
    "#### Table:  product_details\n",
    "| PROD_ID | PRO_ID | SUPP_ID | PROD_PRICE |\n",
    "| --- | --- | --- | --- | \n",
    "| 1 | 1 | 2 | 1500 |\n",
    "| 2 | 3 | 5 | 30000 | \n",
    "| 3 | 5 | 1 | 3000 |\n",
    "| 4 | 2 | 3 | 2500 |\n",
    "| 5 | 4 | 1 | 1000 |"
   ]
  },
  {
   "cell_type": "code",
   "execution_count": null,
   "id": "c18ea964",
   "metadata": {
    "id": "c18ea964"
   },
   "outputs": [],
   "source": [
    "# insert into \"product_details\" table\n",
    "## Inserting data into \"product_details\"\n",
    "\n",
    "connection.close()\n",
    "\n",
    "## Connect to Mysql server and choose the database('e_commerce') while connecting to the server\n",
    "connection = mysql.connector.connect(host =\"localhost\",\n",
    "                                     user =\"root\",\n",
    "                                     passwd =\"T@mmy021\",\n",
    "                                     database = \"e_commerce\")\n",
    "\n",
    "# creating a cursor object\n",
    "cursorObject = connection.cursor()\n",
    "print(connection)\n",
    "\n",
    "insert_product_details = \"\"\"INSERT INTO product_details(PROD_ID, PRO_ID ,SUPP_ID, PROD_PRICE) \n",
    "                       VALUES (%s, %s, %s, %s)\"\"\"\n",
    "\n",
    "val = [(1,1,2,1500),\n",
    "(2,3,5,30000),\n",
    "(3,5,1,3000),\n",
    "(4,2,3,2500),\n",
    "(5,4,1,1000)]\n",
    "\n",
    "cursorObject.executemany(insert_product_details, val)\n",
    "connection.commit()\n"
   ]
  },
  {
   "cell_type": "markdown",
   "id": "1df49086",
   "metadata": {
    "id": "1df49086"
   },
   "source": [
    "#### Table:  orders\n",
    "| ORD_ID | ORD_AMOUNT | ORD_DATE | CUS_ID | PROD_ID\n",
    "| --- | --- | --- | --- | --- |\n",
    "| 20 | 1500 | 2021-10-12 | 3 | 5 |\n",
    "| 25 | 30500 | 2021-09-16 | 5 | 2 |\n",
    "| 26 | 2000 | 2021-10-05 | 1 | 1 |\n",
    "| 30 | 3500 | 2021-08-16 | 4 | 3 |\n",
    "| 50 | 2000 | 2021-10-06 | 2 | 1 |"
   ]
  },
  {
   "cell_type": "code",
   "execution_count": null,
   "id": "0d97dc92",
   "metadata": {
    "id": "0d97dc92"
   },
   "outputs": [],
   "source": [
    "# insert into \"orders\" table\n",
    "#  HAVE USED `order` instead of orders as in the TABLE NAMES GIVEN IN Q1, NAME IS ORDER. ASKED THIS TO FACULTY DURING LAB SESSION AND THEY ARE FINE WITH ORDER INSTEAD OF ORDERS. \n",
    "\n",
    "## Inserting data into \"order\"\n",
    "\n",
    "connection.close()\n",
    "\n",
    "## Connect to Mysql server and choose the database('e_commerce') while connecting to the server\n",
    "connection = mysql.connector.connect(host =\"localhost\",\n",
    "                                     user =\"root\",\n",
    "                                     passwd =\"T@mmy021\",\n",
    "                                     database = \"e_commerce\")\n",
    "\n",
    "# creating a cursor object\n",
    "cursorObject = connection.cursor()\n",
    "print(connection)\n",
    "\n",
    "insert_order = \"\"\"INSERT INTO `order`(ORD_ID, ORD_AMOUNT ,ORD_DATE, CUS_ID, PROD_ID) \n",
    "                       VALUES (%s, %s, %s, %s, %s)\"\"\"\n",
    "\n",
    "val = [(20,1500,'2021-10-12',3,5),\n",
    "(25,30500,'2021-09-16',5,2),\n",
    "(26,2000,'2021-10-05',1,1),\n",
    "(30,3500,'2021-08-16',4,3),\n",
    "(50,2000,'2021-10-16',2,1)]\n",
    "\n",
    "cursorObject.executemany(insert_order, val)\n",
    "connection.commit()"
   ]
  },
  {
   "cell_type": "markdown",
   "id": "75b8ce5f",
   "metadata": {
    "id": "75b8ce5f"
   },
   "source": [
    "#### Table: rating\n",
    "| RAT_ID | CUS_ID | SUPP_ID | RAT_RATSTARS |\n",
    "| --- | --- | --- | --- | \n",
    "| 1 | 2 | 2 | 4 |\n",
    "| 2 | 3 | 4 | 3 | \n",
    "| 3 | 5 | 1 | 5 |\n",
    "| 4 | 1 | 3 | 2 |\n",
    "| 5 | 4 | 5 | 4 |"
   ]
  },
  {
   "cell_type": "code",
   "execution_count": null,
   "id": "6d5f1e18",
   "metadata": {
    "id": "6d5f1e18"
   },
   "outputs": [],
   "source": [
    "# insert into \"rating\" table\n",
    "## Inserting data into \"rating\"\n",
    "\n",
    "connection.close()\n",
    "\n",
    "## Connect to Mysql server and choose the database('e_commerce') while connecting to the server\n",
    "connection = mysql.connector.connect(host =\"localhost\",\n",
    "                                     user =\"root\",\n",
    "                                     passwd =\"T@mmy021\",\n",
    "                                     database = \"e_commerce\")\n",
    "\n",
    "# creating a cursor object\n",
    "cursorObject = connection.cursor()\n",
    "print(connection)\n",
    "\n",
    "insert_rating = \"\"\"INSERT INTO RATING(RAT_ID, CUS_ID ,SUPP_ID, RAT_RATSTARS) \n",
    "                       VALUES (%s, %s, %s, %s)\"\"\"\n",
    "\n",
    "val = [(1,2,2,4),\n",
    "(2,3,4,3),\n",
    "(3,5,1,5),\n",
    "(4,1,3,2),\n",
    "(5,4,5,4)]\n",
    "\n",
    "cursorObject.executemany(insert_rating, val)\n",
    "connection.commit()\n"
   ]
  },
  {
   "cell_type": "markdown",
   "id": "b59361c3",
   "metadata": {
    "id": "b59361c3"
   },
   "source": [
    "### Q3) Display the number of the customer group by their genders who have placed any order of amount greater than or equal to Rs.3000."
   ]
  },
  {
   "cell_type": "code",
   "execution_count": 23,
   "id": "8e4af20f",
   "metadata": {},
   "outputs": [
    {
     "name": "stdout",
     "output_type": "stream",
     "text": [
      "<mysql.connector.connection_cext.CMySQLConnection object at 0x000001F4BFE53970>\n"
     ]
    }
   ],
   "source": [
    "connection.close()\n",
    "\n",
    "## Connect to Mysql server and choose the database('e_commerce') while connecting to the server\n",
    "connection = mysql.connector.connect(host =\"localhost\",\n",
    "                                     user =\"root\",\n",
    "                                     passwd =\"T@mmy021\",\n",
    "                                     database = \"e_commerce\")\n",
    "\n",
    "# creating a cursor object\n",
    "cursorObject = connection.cursor()\n",
    "print(connection)"
   ]
  },
  {
   "cell_type": "code",
   "execution_count": 6,
   "id": "fcafaf3c",
   "metadata": {
    "id": "fcafaf3c"
   },
   "outputs": [
    {
     "data": {
      "text/html": [
       "<div>\n",
       "<style scoped>\n",
       "    .dataframe tbody tr th:only-of-type {\n",
       "        vertical-align: middle;\n",
       "    }\n",
       "\n",
       "    .dataframe tbody tr th {\n",
       "        vertical-align: top;\n",
       "    }\n",
       "\n",
       "    .dataframe thead th {\n",
       "        text-align: right;\n",
       "    }\n",
       "</style>\n",
       "<table border=\"1\" class=\"dataframe\">\n",
       "  <thead>\n",
       "    <tr style=\"text-align: right;\">\n",
       "      <th></th>\n",
       "      <th>Gender</th>\n",
       "      <th>Count</th>\n",
       "    </tr>\n",
       "  </thead>\n",
       "  <tbody>\n",
       "    <tr>\n",
       "      <th>0</th>\n",
       "      <td>M</td>\n",
       "      <td>1</td>\n",
       "    </tr>\n",
       "    <tr>\n",
       "      <th>1</th>\n",
       "      <td>F</td>\n",
       "      <td>1</td>\n",
       "    </tr>\n",
       "  </tbody>\n",
       "</table>\n",
       "</div>"
      ],
      "text/plain": [
       "  Gender  Count\n",
       "0      M      1\n",
       "1      F      1"
      ]
     },
     "execution_count": 6,
     "metadata": {},
     "output_type": "execute_result"
    }
   ],
   "source": [
    "Q3 = \"\"\"select customer.cus_gender,count(customer.cus_gender) as count \n",
    "            from customer inner join `order` on customer.cus_id=`order`.cus_id \n",
    "            where `order`.ord_amount>=3000 group by customer.cus_gender;\"\"\"\n",
    "cursorObject.execute(Q3)\n",
    "output = cursorObject.fetchall()\n",
    "output_df = pd.DataFrame(output, columns=['Gender', 'Count'])\n",
    "output_df"
   ]
  },
  {
   "cell_type": "markdown",
   "id": "e49e04f5",
   "metadata": {
    "id": "e49e04f5"
   },
   "source": [
    "### Q4) Display all the order along with product name ordered by a customer having Customer_Id=2;"
   ]
  },
  {
   "cell_type": "code",
   "execution_count": 26,
   "id": "9dcb7883",
   "metadata": {
    "id": "9dcb7883"
   },
   "outputs": [
    {
     "data": {
      "text/html": [
       "<div>\n",
       "<style scoped>\n",
       "    .dataframe tbody tr th:only-of-type {\n",
       "        vertical-align: middle;\n",
       "    }\n",
       "\n",
       "    .dataframe tbody tr th {\n",
       "        vertical-align: top;\n",
       "    }\n",
       "\n",
       "    .dataframe thead th {\n",
       "        text-align: right;\n",
       "    }\n",
       "</style>\n",
       "<table border=\"1\" class=\"dataframe\">\n",
       "  <thead>\n",
       "    <tr style=\"text-align: right;\">\n",
       "      <th></th>\n",
       "      <th>Order_Id</th>\n",
       "      <th>Order_Amount</th>\n",
       "      <th>Order_Date</th>\n",
       "      <th>Customer_Id</th>\n",
       "      <th>Product_Id</th>\n",
       "      <th>Product_Name</th>\n",
       "    </tr>\n",
       "  </thead>\n",
       "  <tbody>\n",
       "    <tr>\n",
       "      <th>0</th>\n",
       "      <td>50</td>\n",
       "      <td>2000</td>\n",
       "      <td>2021-10-16</td>\n",
       "      <td>2</td>\n",
       "      <td>1</td>\n",
       "      <td>GTA V</td>\n",
       "    </tr>\n",
       "  </tbody>\n",
       "</table>\n",
       "</div>"
      ],
      "text/plain": [
       "   Order_Id  Order_Amount  Order_Date  Customer_Id  Product_Id Product_Name\n",
       "0        50          2000  2021-10-16            2           1        GTA V"
      ]
     },
     "execution_count": 26,
     "metadata": {},
     "output_type": "execute_result"
    }
   ],
   "source": [
    "Q4 = \"\"\"select o.ORD_ID,o.ORD_AMOUNT,o.ORD_DATE,o.CUS_ID,o.PROD_ID,p.PRO_NAME from `order` o \n",
    "    inner join product_details pd on o.PROD_ID=pd.PROD_ID \n",
    "    inner join product p on p.PRO_ID=pd.PRO_ID group by CUS_ID having CUS_ID=2; \"\"\"\n",
    "cursorObject.execute(Q4)\n",
    "output = cursorObject.fetchall()\n",
    "output_df = pd.DataFrame(output, columns=['Order_Id','Order_Amount','Order_Date','Customer_Id','Product_Id','Product_Name'])\n",
    "output_df"
   ]
  },
  {
   "cell_type": "code",
   "execution_count": 38,
   "id": "d07e6ff7",
   "metadata": {},
   "outputs": [
    {
     "data": {
      "text/html": [
       "<div>\n",
       "<style scoped>\n",
       "    .dataframe tbody tr th:only-of-type {\n",
       "        vertical-align: middle;\n",
       "    }\n",
       "\n",
       "    .dataframe tbody tr th {\n",
       "        vertical-align: top;\n",
       "    }\n",
       "\n",
       "    .dataframe thead th {\n",
       "        text-align: right;\n",
       "    }\n",
       "</style>\n",
       "<table border=\"1\" class=\"dataframe\">\n",
       "  <thead>\n",
       "    <tr style=\"text-align: right;\">\n",
       "      <th></th>\n",
       "      <th>Product_Id</th>\n",
       "      <th>Product_Name</th>\n",
       "      <th>Product_Description</th>\n",
       "      <th>Category_Id</th>\n",
       "    </tr>\n",
       "  </thead>\n",
       "  <tbody>\n",
       "    <tr>\n",
       "      <th>0</th>\n",
       "      <td>1</td>\n",
       "      <td>GTA V</td>\n",
       "      <td>DFJDJFDJFDJFDJFJF</td>\n",
       "      <td>2</td>\n",
       "    </tr>\n",
       "  </tbody>\n",
       "</table>\n",
       "</div>"
      ],
      "text/plain": [
       "   Product_Id Product_Name Product_Description  Category_Id\n",
       "0           1        GTA V   DFJDJFDJFDJFDJFJF            2"
      ]
     },
     "execution_count": 38,
     "metadata": {},
     "output_type": "execute_result"
    }
   ],
   "source": [
    "# ALTERNATE SOLUTION TO DISPLAY PRODUCT NAME FOR CUSTOMER ID 2. \n",
    "\n",
    "Q4 = \"\"\"select * from product where pro_id = (select product_details.pro_id from product_details inner join `order` on\n",
    "        `order`.prod_id = product_details.prod_id where `order`.cus_id = 2); \"\"\"\n",
    "cursorObject.execute(Q4)\n",
    "output = cursorObject.fetchall()\n",
    "output_df = pd.DataFrame(output, columns=['Product_Id', 'Product_Name', 'Product_Description', 'Category_Id'])\n",
    "output_df"
   ]
  },
  {
   "cell_type": "markdown",
   "id": "3a33398e",
   "metadata": {
    "id": "3a33398e"
   },
   "source": [
    "### Q5) Display the Supplier details who can supply more than one product."
   ]
  },
  {
   "cell_type": "code",
   "execution_count": 39,
   "id": "e933b979",
   "metadata": {
    "id": "e933b979"
   },
   "outputs": [
    {
     "data": {
      "text/html": [
       "<div>\n",
       "<style scoped>\n",
       "    .dataframe tbody tr th:only-of-type {\n",
       "        vertical-align: middle;\n",
       "    }\n",
       "\n",
       "    .dataframe tbody tr th {\n",
       "        vertical-align: top;\n",
       "    }\n",
       "\n",
       "    .dataframe thead th {\n",
       "        text-align: right;\n",
       "    }\n",
       "</style>\n",
       "<table border=\"1\" class=\"dataframe\">\n",
       "  <thead>\n",
       "    <tr style=\"text-align: right;\">\n",
       "      <th></th>\n",
       "      <th>Supplier_id</th>\n",
       "      <th>Supplier_Name</th>\n",
       "      <th>Supplier_City</th>\n",
       "      <th>Supplier_Phone</th>\n",
       "    </tr>\n",
       "  </thead>\n",
       "  <tbody>\n",
       "    <tr>\n",
       "      <th>0</th>\n",
       "      <td>1</td>\n",
       "      <td>Rajesh Retails</td>\n",
       "      <td>Delhi</td>\n",
       "      <td>1234567890</td>\n",
       "    </tr>\n",
       "  </tbody>\n",
       "</table>\n",
       "</div>"
      ],
      "text/plain": [
       "   Supplier_id   Supplier_Name Supplier_City Supplier_Phone\n",
       "0            1  Rajesh Retails         Delhi     1234567890"
      ]
     },
     "execution_count": 39,
     "metadata": {},
     "output_type": "execute_result"
    }
   ],
   "source": [
    "Q5 = \"\"\"select supplier.* from supplier inner join product_details on product_details.supp_id = supplier.supp_id group by \n",
    "          product_details.supp_id having count(product_details.supp_id)>1;\"\"\"\n",
    "cursorObject.execute(Q5)\n",
    "output = cursorObject.fetchall()\n",
    "output_df = pd.DataFrame(output, columns=['Supplier_id', 'Supplier_Name', 'Supplier_City', 'Supplier_Phone'])\n",
    "output_df"
   ]
  },
  {
   "cell_type": "markdown",
   "id": "5fd319ef",
   "metadata": {
    "id": "5fd319ef"
   },
   "source": [
    "### Q6) Find the category of the product whose order amount is minimum."
   ]
  },
  {
   "cell_type": "code",
   "execution_count": 43,
   "id": "4507fd52",
   "metadata": {},
   "outputs": [
    {
     "data": {
      "text/html": [
       "<div>\n",
       "<style scoped>\n",
       "    .dataframe tbody tr th:only-of-type {\n",
       "        vertical-align: middle;\n",
       "    }\n",
       "\n",
       "    .dataframe tbody tr th {\n",
       "        vertical-align: top;\n",
       "    }\n",
       "\n",
       "    .dataframe thead th {\n",
       "        text-align: right;\n",
       "    }\n",
       "</style>\n",
       "<table border=\"1\" class=\"dataframe\">\n",
       "  <thead>\n",
       "    <tr style=\"text-align: right;\">\n",
       "      <th></th>\n",
       "      <th>Order_Amount</th>\n",
       "      <th>Category_id</th>\n",
       "      <th>Category_Name</th>\n",
       "    </tr>\n",
       "  </thead>\n",
       "  <tbody>\n",
       "    <tr>\n",
       "      <th>0</th>\n",
       "      <td>1500</td>\n",
       "      <td>4</td>\n",
       "      <td>ELECTRONICS</td>\n",
       "    </tr>\n",
       "  </tbody>\n",
       "</table>\n",
       "</div>"
      ],
      "text/plain": [
       "   Order_Amount  Category_id Category_Name\n",
       "0          1500            4   ELECTRONICS"
      ]
     },
     "execution_count": 43,
     "metadata": {},
     "output_type": "execute_result"
    }
   ],
   "source": [
    "Q6 = \"\"\"select o.ORD_AMOUNT, c.CAT_ID,c.CAT_NAME from `order` o\n",
    "                   inner join product_details pd on o.PROD_ID=pd.PROD_ID \n",
    "                   inner join product p on p.PRO_ID=pd.PRO_ID\n",
    "                   inner join category c on c.CAT_ID=p.PRO_ID \n",
    "                   having min(o.ORD_AMOUNT);\"\"\"\n",
    "\n",
    "cursorObject.execute(Q6)\n",
    "output = cursorObject.fetchall()\n",
    "output_df = pd.DataFrame(output, columns=[\"Order_Amount\",\"Category_id\", 'Category_Name'])\n",
    "output_df"
   ]
  },
  {
   "cell_type": "markdown",
   "id": "107102d4",
   "metadata": {
    "id": "107102d4"
   },
   "source": [
    "### Q7) Display the Id and Name of the Product ordered after “2021-10-05”."
   ]
  },
  {
   "cell_type": "code",
   "execution_count": 41,
   "id": "5d3fc7e8",
   "metadata": {
    "id": "5d3fc7e8"
   },
   "outputs": [
    {
     "data": {
      "text/html": [
       "<div>\n",
       "<style scoped>\n",
       "    .dataframe tbody tr th:only-of-type {\n",
       "        vertical-align: middle;\n",
       "    }\n",
       "\n",
       "    .dataframe tbody tr th {\n",
       "        vertical-align: top;\n",
       "    }\n",
       "\n",
       "    .dataframe thead th {\n",
       "        text-align: right;\n",
       "    }\n",
       "</style>\n",
       "<table border=\"1\" class=\"dataframe\">\n",
       "  <thead>\n",
       "    <tr style=\"text-align: right;\">\n",
       "      <th></th>\n",
       "      <th>Product_id</th>\n",
       "      <th>Product_Name</th>\n",
       "    </tr>\n",
       "  </thead>\n",
       "  <tbody>\n",
       "    <tr>\n",
       "      <th>0</th>\n",
       "      <td>1</td>\n",
       "      <td>GTA V</td>\n",
       "    </tr>\n",
       "    <tr>\n",
       "      <th>1</th>\n",
       "      <td>4</td>\n",
       "      <td>OATS</td>\n",
       "    </tr>\n",
       "  </tbody>\n",
       "</table>\n",
       "</div>"
      ],
      "text/plain": [
       "   Product_id Product_Name\n",
       "0           1        GTA V\n",
       "1           4         OATS"
      ]
     },
     "execution_count": 41,
     "metadata": {},
     "output_type": "execute_result"
    }
   ],
   "source": [
    "Q7 = \"\"\"select pro_id, pro_name from product where pro_id in (select product_details.pro_id from `order` inner join\n",
    "          product_details on `order`.prod_id = product_details.prod_id where `order`.ord_date > '2021-10-05');\"\"\"\n",
    "cursorObject.execute(Q7)\n",
    "output = cursorObject.fetchall()\n",
    "output_df = pd.DataFrame(output, columns = ['Product_id', 'Product_Name'])\n",
    "output_df"
   ]
  },
  {
   "cell_type": "code",
   "execution_count": 29,
   "id": "5831f2e0",
   "metadata": {},
   "outputs": [
    {
     "data": {
      "text/html": [
       "<div>\n",
       "<style scoped>\n",
       "    .dataframe tbody tr th:only-of-type {\n",
       "        vertical-align: middle;\n",
       "    }\n",
       "\n",
       "    .dataframe tbody tr th {\n",
       "        vertical-align: top;\n",
       "    }\n",
       "\n",
       "    .dataframe thead th {\n",
       "        text-align: right;\n",
       "    }\n",
       "</style>\n",
       "<table border=\"1\" class=\"dataframe\">\n",
       "  <thead>\n",
       "    <tr style=\"text-align: right;\">\n",
       "      <th></th>\n",
       "      <th>Product_ID</th>\n",
       "      <th>Product_name</th>\n",
       "      <th>Order_Date</th>\n",
       "    </tr>\n",
       "  </thead>\n",
       "  <tbody>\n",
       "    <tr>\n",
       "      <th>0</th>\n",
       "      <td>4</td>\n",
       "      <td>OATS</td>\n",
       "      <td>2021-10-12</td>\n",
       "    </tr>\n",
       "    <tr>\n",
       "      <th>1</th>\n",
       "      <td>1</td>\n",
       "      <td>GTA V</td>\n",
       "      <td>2021-10-16</td>\n",
       "    </tr>\n",
       "  </tbody>\n",
       "</table>\n",
       "</div>"
      ],
      "text/plain": [
       "   Product_ID Product_name  Order_Date\n",
       "0           4         OATS  2021-10-12\n",
       "1           1        GTA V  2021-10-16"
      ]
     },
     "execution_count": 29,
     "metadata": {},
     "output_type": "execute_result"
    }
   ],
   "source": [
    "#ALTERNATE SOLUTION \n",
    "Q7 = \"\"\"select p.PRO_ID,p.PRO_NAME,o.ORD_DATE from `order` o \n",
    "                 inner join product_details pd on pd.PROD_ID=o.PROD_ID \n",
    "                 inner join product p on p.PRO_ID=pd.PRO_ID \n",
    "                 having o.ORD_DATE>'2021-10-05';\"\"\"\n",
    "cursorObject.execute(Q7)\n",
    "output = cursorObject.fetchall()\n",
    "output_df = pd.DataFrame(output, columns = ['Product_ID','Product_name','Order_Date'])\n",
    "output_df"
   ]
  },
  {
   "cell_type": "markdown",
   "id": "bdce7167",
   "metadata": {
    "id": "bdce7167"
   },
   "source": [
    "### Q8) Print the top 3 supplier name and id and rating on the basis of their rating along with the customer name who has given the rating."
   ]
  },
  {
   "cell_type": "code",
   "execution_count": 31,
   "id": "fa0cbe44",
   "metadata": {
    "id": "fa0cbe44"
   },
   "outputs": [
    {
     "data": {
      "text/html": [
       "<div>\n",
       "<style scoped>\n",
       "    .dataframe tbody tr th:only-of-type {\n",
       "        vertical-align: middle;\n",
       "    }\n",
       "\n",
       "    .dataframe tbody tr th {\n",
       "        vertical-align: top;\n",
       "    }\n",
       "\n",
       "    .dataframe thead th {\n",
       "        text-align: right;\n",
       "    }\n",
       "</style>\n",
       "<table border=\"1\" class=\"dataframe\">\n",
       "  <thead>\n",
       "    <tr style=\"text-align: right;\">\n",
       "      <th></th>\n",
       "      <th>Supplier_Id</th>\n",
       "      <th>Supplier_Name</th>\n",
       "      <th>Customer_Name</th>\n",
       "      <th>Ratings</th>\n",
       "    </tr>\n",
       "  </thead>\n",
       "  <tbody>\n",
       "    <tr>\n",
       "      <th>0</th>\n",
       "      <td>1</td>\n",
       "      <td>Rajesh Retails</td>\n",
       "      <td>PULKIT</td>\n",
       "      <td>5</td>\n",
       "    </tr>\n",
       "    <tr>\n",
       "      <th>1</th>\n",
       "      <td>2</td>\n",
       "      <td>Appario Ltd.</td>\n",
       "      <td>AMAN</td>\n",
       "      <td>4</td>\n",
       "    </tr>\n",
       "    <tr>\n",
       "      <th>2</th>\n",
       "      <td>5</td>\n",
       "      <td>Mittal Ltd.</td>\n",
       "      <td>MEGHA</td>\n",
       "      <td>4</td>\n",
       "    </tr>\n",
       "  </tbody>\n",
       "</table>\n",
       "</div>"
      ],
      "text/plain": [
       "   Supplier_Id   Supplier_Name Customer_Name  Ratings\n",
       "0            1  Rajesh Retails        PULKIT        5\n",
       "1            2    Appario Ltd.          AMAN        4\n",
       "2            5     Mittal Ltd.         MEGHA        4"
      ]
     },
     "execution_count": 31,
     "metadata": {},
     "output_type": "execute_result"
    }
   ],
   "source": [
    "Q8 = \"\"\"select supplier.supp_id, supplier.supp_name, customer.cus_name, rating.rat_ratstars from ((rating\n",
    "          inner join supplier on rating.supp_id = supplier.supp_id) inner join customer on \n",
    "          rating.cus_id = customer.cus_id ) order by rat_ratstars desc limit 3;\"\"\"\n",
    "cursorObject.execute(Q8)\n",
    "output = cursorObject.fetchall()\n",
    "output_df = pd.DataFrame(output, columns=['Supplier_Id', 'Supplier_Name', 'Customer_Name', 'Ratings'])\n",
    "output_df"
   ]
  },
  {
   "cell_type": "markdown",
   "id": "346ec2a1",
   "metadata": {
    "id": "346ec2a1"
   },
   "source": [
    "### Q9) Display customer name and gender whose names start or end with character 'A'."
   ]
  },
  {
   "cell_type": "code",
   "execution_count": 32,
   "id": "e571b5fd",
   "metadata": {
    "id": "e571b5fd"
   },
   "outputs": [
    {
     "data": {
      "text/html": [
       "<div>\n",
       "<style scoped>\n",
       "    .dataframe tbody tr th:only-of-type {\n",
       "        vertical-align: middle;\n",
       "    }\n",
       "\n",
       "    .dataframe tbody tr th {\n",
       "        vertical-align: top;\n",
       "    }\n",
       "\n",
       "    .dataframe thead th {\n",
       "        text-align: right;\n",
       "    }\n",
       "</style>\n",
       "<table border=\"1\" class=\"dataframe\">\n",
       "  <thead>\n",
       "    <tr style=\"text-align: right;\">\n",
       "      <th></th>\n",
       "      <th>Customer_Name</th>\n",
       "      <th>Customer_Gender</th>\n",
       "    </tr>\n",
       "  </thead>\n",
       "  <tbody>\n",
       "    <tr>\n",
       "      <th>0</th>\n",
       "      <td>AAKASH</td>\n",
       "      <td>M</td>\n",
       "    </tr>\n",
       "    <tr>\n",
       "      <th>1</th>\n",
       "      <td>AMAN</td>\n",
       "      <td>M</td>\n",
       "    </tr>\n",
       "    <tr>\n",
       "      <th>2</th>\n",
       "      <td>NEHA</td>\n",
       "      <td>F</td>\n",
       "    </tr>\n",
       "    <tr>\n",
       "      <th>3</th>\n",
       "      <td>MEGHA</td>\n",
       "      <td>F</td>\n",
       "    </tr>\n",
       "  </tbody>\n",
       "</table>\n",
       "</div>"
      ],
      "text/plain": [
       "  Customer_Name Customer_Gender\n",
       "0        AAKASH               M\n",
       "1          AMAN               M\n",
       "2          NEHA               F\n",
       "3         MEGHA               F"
      ]
     },
     "execution_count": 32,
     "metadata": {},
     "output_type": "execute_result"
    }
   ],
   "source": [
    "Q9 = \"\"\"select cus_name, cus_gender from customer where cus_name like 'A%' or cus_name like '%A';\"\"\"\n",
    "cursorObject.execute(Q9)\n",
    "output = cursorObject.fetchall()\n",
    "output_df = pd.DataFrame(output, columns=['Customer_Name', 'Customer_Gender'])\n",
    "output_df"
   ]
  },
  {
   "cell_type": "markdown",
   "id": "d0b01f77",
   "metadata": {
    "id": "d0b01f77"
   },
   "source": [
    "### Q10) Display the total order amount of the male customers."
   ]
  },
  {
   "cell_type": "code",
   "execution_count": 33,
   "id": "c3fa76e3",
   "metadata": {
    "id": "c3fa76e3"
   },
   "outputs": [
    {
     "data": {
      "text/html": [
       "<div>\n",
       "<style scoped>\n",
       "    .dataframe tbody tr th:only-of-type {\n",
       "        vertical-align: middle;\n",
       "    }\n",
       "\n",
       "    .dataframe tbody tr th {\n",
       "        vertical-align: top;\n",
       "    }\n",
       "\n",
       "    .dataframe thead th {\n",
       "        text-align: right;\n",
       "    }\n",
       "</style>\n",
       "<table border=\"1\" class=\"dataframe\">\n",
       "  <thead>\n",
       "    <tr style=\"text-align: right;\">\n",
       "      <th></th>\n",
       "      <th>Total_Order_Amount</th>\n",
       "    </tr>\n",
       "  </thead>\n",
       "  <tbody>\n",
       "    <tr>\n",
       "      <th>0</th>\n",
       "      <td>34500</td>\n",
       "    </tr>\n",
       "  </tbody>\n",
       "</table>\n",
       "</div>"
      ],
      "text/plain": [
       "  Total_Order_Amount\n",
       "0              34500"
      ]
     },
     "execution_count": 33,
     "metadata": {},
     "output_type": "execute_result"
    }
   ],
   "source": [
    "Q10 = \"\"\"select sum(`order`.ord_amount) as Total_Order_Amount from `order` where cus_id in\n",
    "          (select cus_id from customer where CUS_GENDER = 'M');\"\"\"\n",
    "cursorObject.execute(Q10)\n",
    "output = cursorObject.fetchall()\n",
    "output_df = pd.DataFrame(output, columns=['Total_Order_Amount'])\n",
    "output_df"
   ]
  },
  {
   "cell_type": "markdown",
   "id": "ff8a9971",
   "metadata": {
    "id": "ff8a9971"
   },
   "source": [
    "### Q11) Display all the Customers left outer join with  the orders"
   ]
  },
  {
   "cell_type": "code",
   "execution_count": 35,
   "id": "a340c6d6",
   "metadata": {
    "id": "a340c6d6"
   },
   "outputs": [
    {
     "data": {
      "text/html": [
       "<div>\n",
       "<style scoped>\n",
       "    .dataframe tbody tr th:only-of-type {\n",
       "        vertical-align: middle;\n",
       "    }\n",
       "\n",
       "    .dataframe tbody tr th {\n",
       "        vertical-align: top;\n",
       "    }\n",
       "\n",
       "    .dataframe thead th {\n",
       "        text-align: right;\n",
       "    }\n",
       "</style>\n",
       "<table border=\"1\" class=\"dataframe\">\n",
       "  <thead>\n",
       "    <tr style=\"text-align: right;\">\n",
       "      <th></th>\n",
       "      <th>Customer_Id</th>\n",
       "      <th>Customer_Name</th>\n",
       "      <th>Customer_Phone</th>\n",
       "      <th>Customer_City</th>\n",
       "      <th>Customer_Gender</th>\n",
       "      <th>Order_Id</th>\n",
       "      <th>Order_Amount</th>\n",
       "      <th>Order_Date</th>\n",
       "      <th>Prod_id</th>\n",
       "    </tr>\n",
       "  </thead>\n",
       "  <tbody>\n",
       "    <tr>\n",
       "      <th>0</th>\n",
       "      <td>1</td>\n",
       "      <td>AAKASH</td>\n",
       "      <td>9999999999</td>\n",
       "      <td>DELHI</td>\n",
       "      <td>M</td>\n",
       "      <td>26</td>\n",
       "      <td>2000</td>\n",
       "      <td>2021-10-05</td>\n",
       "      <td>1</td>\n",
       "    </tr>\n",
       "    <tr>\n",
       "      <th>1</th>\n",
       "      <td>2</td>\n",
       "      <td>AMAN</td>\n",
       "      <td>9785463215</td>\n",
       "      <td>NOIDA</td>\n",
       "      <td>M</td>\n",
       "      <td>50</td>\n",
       "      <td>2000</td>\n",
       "      <td>2021-10-16</td>\n",
       "      <td>1</td>\n",
       "    </tr>\n",
       "    <tr>\n",
       "      <th>2</th>\n",
       "      <td>3</td>\n",
       "      <td>NEHA</td>\n",
       "      <td>9999999999</td>\n",
       "      <td>MUMBAI</td>\n",
       "      <td>F</td>\n",
       "      <td>20</td>\n",
       "      <td>1500</td>\n",
       "      <td>2021-10-12</td>\n",
       "      <td>5</td>\n",
       "    </tr>\n",
       "    <tr>\n",
       "      <th>3</th>\n",
       "      <td>4</td>\n",
       "      <td>MEGHA</td>\n",
       "      <td>9994562399</td>\n",
       "      <td>KOLKATA</td>\n",
       "      <td>F</td>\n",
       "      <td>30</td>\n",
       "      <td>3500</td>\n",
       "      <td>2021-08-16</td>\n",
       "      <td>3</td>\n",
       "    </tr>\n",
       "    <tr>\n",
       "      <th>4</th>\n",
       "      <td>5</td>\n",
       "      <td>PULKIT</td>\n",
       "      <td>7895999999</td>\n",
       "      <td>LUCKNOW</td>\n",
       "      <td>M</td>\n",
       "      <td>25</td>\n",
       "      <td>30500</td>\n",
       "      <td>2021-09-16</td>\n",
       "      <td>2</td>\n",
       "    </tr>\n",
       "  </tbody>\n",
       "</table>\n",
       "</div>"
      ],
      "text/plain": [
       "   Customer_Id Customer_Name Customer_Phone Customer_City Customer_Gender  \\\n",
       "0            1        AAKASH     9999999999         DELHI               M   \n",
       "1            2          AMAN     9785463215         NOIDA               M   \n",
       "2            3          NEHA     9999999999        MUMBAI               F   \n",
       "3            4         MEGHA     9994562399       KOLKATA               F   \n",
       "4            5        PULKIT     7895999999       LUCKNOW               M   \n",
       "\n",
       "   Order_Id  Order_Amount  Order_Date  Prod_id  \n",
       "0        26          2000  2021-10-05        1  \n",
       "1        50          2000  2021-10-16        1  \n",
       "2        20          1500  2021-10-12        5  \n",
       "3        30          3500  2021-08-16        3  \n",
       "4        25         30500  2021-09-16        2  "
      ]
     },
     "execution_count": 35,
     "metadata": {},
     "output_type": "execute_result"
    }
   ],
   "source": [
    "Q11 = \"\"\"select customer.*, `order`.ord_id, `order`.ord_amount, `order`.ord_date, `order`.prod_id\n",
    "          from customer left outer join `order` on customer.cus_id = `order`.cus_id;\"\"\"\n",
    "cursorObject.execute(Q11)\n",
    "output = cursorObject.fetchall()\n",
    "output_df = pd.DataFrame(output, columns=['Customer_Id', 'Customer_Name', 'Customer_Phone', 'Customer_City', 'Customer_Gender', 'Order_Id',\n",
    "                                          'Order_Amount', 'Order_Date', 'Prod_id' ])\n",
    "output_df"
   ]
  },
  {
   "cell_type": "markdown",
   "id": "0a72afe3",
   "metadata": {
    "id": "0a72afe3"
   },
   "source": [
    "**NOTE:** Always close an open connection once you are done with the database operations"
   ]
  },
  {
   "cell_type": "markdown",
   "id": "8c88f479",
   "metadata": {
    "id": "8c88f479"
   },
   "source": [
    "## Happy Learning:)"
   ]
  }
 ],
 "metadata": {
  "colab": {
   "name": "Lab Session  -  E-Commerce.ipynb",
   "provenance": []
  },
  "kernelspec": {
   "display_name": "Python 3 (ipykernel)",
   "language": "python",
   "name": "python3"
  },
  "language_info": {
   "codemirror_mode": {
    "name": "ipython",
    "version": 3
   },
   "file_extension": ".py",
   "mimetype": "text/x-python",
   "name": "python",
   "nbconvert_exporter": "python",
   "pygments_lexer": "ipython3",
   "version": "3.9.13"
  }
 },
 "nbformat": 4,
 "nbformat_minor": 5
}
